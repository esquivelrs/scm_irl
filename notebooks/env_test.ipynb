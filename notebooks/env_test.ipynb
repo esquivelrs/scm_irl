{
 "cells": [
  {
   "cell_type": "code",
   "execution_count": 2,
   "metadata": {},
   "outputs": [
    {
     "name": "stdout",
     "output_type": "stream",
     "text": [
      "mmsi: 215811000, start_time: 1577904600.0, end_time: 1577906100.0\n",
      "VesselMetaData(mmsi=215811000, ship_type='Tanker', width=42.0, length=244.0, draught=15.0, nav_status=4)\n",
      "VesselState(timestamp=0.0, lat=121.62966767843639, lon=1847.8675034043845, sog=4.915240363636364, cog=0.4191963530699095)\n"
     ]
    }
   ],
   "source": [
    "from scm_irl.env.scm_irl_env import ScmIrlEnv\n",
    "from sllib.conversions.geo_conversions import north_east_to_lat_lon, mps2knots, lat_lon_to_north_east\n",
    "import numpy as np\n",
    "\n",
    "path = \"/home/rolando/Documents/DTU/SCMarine/ais-and-charts-sample/ais_data/scenario_2a66ceaf61\"\n",
    "#path = \"/home/rolando/Documents/DTU/SCMarine/scm_irl/data/raw/scenario_01e88fc6af\"\n",
    "#path = \"/home/rolando/Documents/DTU/SCMarine/scm_irl/data/raw/scenario_3cb9cf2af3\"\n",
    "#215811000\n",
    "#219016555\n",
    "#219023834\n",
    "#, mmsi=215811000\n",
    "env = ScmIrlEnv(path, mmsi=215811000, awareness_zone = [500, 500, 1500, 1500])\n",
    "#env = ScmIrlEnv(path, awareness_zone = [500, 500, 1500, 1500])\n",
    "\n",
    "#env.step([2,1])\n",
    "env.mmsi\n",
    "\n",
    "print(env.get_vessel_metadata())\n",
    "\n",
    "\n",
    "\n",
    "print(env.agent_state)\n",
    "\n",
    "timestep = env.timestep\n",
    "\n",
    "\n",
    "\n",
    "\n",
    "#while not env.done:\n",
    "for i in range(50):\n",
    "    timestep = env.timestep\n",
    "    action = env.get_action_from_vessel(timestep)\n",
    "    agent_state, reward, terminate, done, info = env.step(action)\n",
    "\n",
    "    #print(action)\n",
    "    #print(ret)\n",
    "\n",
    "#     # create random action\n",
    "#     # action = env.action_space.sample()\n",
    "#     # # take action\n",
    "#     # env.step(action)\n",
    "#     env.step([2.0055,i])\n",
    "\n",
    "env.close()"
   ]
  },
  {
   "cell_type": "code",
   "execution_count": 2,
   "metadata": {},
   "outputs": [
    {
     "data": {
      "text/plain": [
       "(3000, 1000)"
      ]
     },
     "execution_count": 2,
     "metadata": {},
     "output_type": "execute_result"
    }
   ],
   "source": [
    "env.observation_matrix.shape"
   ]
  },
  {
   "cell_type": "code",
   "execution_count": 1,
   "metadata": {},
   "outputs": [
    {
     "name": "stdout",
     "output_type": "stream",
     "text": [
      "mmsi: 215811000, start_time: 1577904600.0, end_time: 1577906100.0\n"
     ]
    },
    {
     "data": {
      "text/plain": [
       "<matplotlib.image.AxesImage at 0x7edb31bb1a50>"
      ]
     },
     "execution_count": 1,
     "metadata": {},
     "output_type": "execute_result"
    },
    {
     "data": {
      "image/png": "[encoded data removed]",
      "text/plain": [
       "<Figure size 640x480 with 1 Axes>"
      ]
     },
     "metadata": {},
     "output_type": "display_data"
    }
   ],
   "source": [
    "from scm_irl.env.scm_irl_env import ScmIrlEnv\n",
    "import matplotlib.pyplot as plt\n",
    "from scm_irl.utils.plot_scenario import plot_cropbox_area, modulate_color, cmap_seachart\n",
    "path = \"/home/rolando/Documents/DTU/SCMarine/ais-and-charts-sample/ais_data/scenario_2a66ceaf61\"\n",
    "#path = \"/home/rolando/Documents/DTU/SCMarine/scm_irl/data/raw/scenario_01e88fc6af\"\n",
    "#path = \"/home/rolando/Documents/DTU/SCMarine/scm_irl/data/raw/scenario_3cb9cf2af3\"\n",
    "#215811000\n",
    "#219016555\n",
    "#219023834\n",
    "#, mmsi=215811000\n",
    "env = ScmIrlEnv(path, mmsi=215811000, awareness_zone = [2000, 2000, 1500, 1500])\n",
    "\n",
    "cmap = cmap_seachart()\n",
    "\n",
    "plt.imshow(env.observation_matrix/60, cmap=cmap, vmin=0, vmax=1)"
   ]
  },
  {
   "cell_type": "code",
   "execution_count": 3,
   "metadata": {},
   "outputs": [
    {
     "name": "stdout",
     "output_type": "stream",
     "text": [
      "mmsi: 215811000, start_time: 1577904600.0, end_time: 1577906100.0\n"
     ]
    },
    {
     "ename": "AttributeError",
     "evalue": "'numpy.float32' object has no attribute 'exterior'",
     "output_type": "error",
     "traceback": [
      "\u001b[0;31m---------------------------------------------------------------------------\u001b[0m",
      "\u001b[0;31mAttributeError\u001b[0m                            Traceback (most recent call last)",
      "Cell \u001b[0;32mIn[3], line 18\u001b[0m\n\u001b[1;32m     16\u001b[0m color \u001b[38;5;241m=\u001b[39m \u001b[38;5;124m'\u001b[39m\u001b[38;5;124mdodgerblue\u001b[39m\u001b[38;5;124m'\u001b[39m\n\u001b[1;32m     17\u001b[0m \u001b[38;5;28;01mfor\u001b[39;00m depth \u001b[38;5;129;01min\u001b[39;00m depths_lands_inside:\n\u001b[0;32m---> 18\u001b[0m     polygon \u001b[38;5;241m=\u001b[39m patches\u001b[38;5;241m.\u001b[39mPolygon([(x[\u001b[38;5;241m0\u001b[39m], x[\u001b[38;5;241m1\u001b[39m]) \u001b[38;5;28;01mfor\u001b[39;00m x \u001b[38;5;129;01min\u001b[39;00m \u001b[43mdepth\u001b[49m\u001b[43m[\u001b[49m\u001b[38;5;241;43m0\u001b[39;49m\u001b[43m]\u001b[49m\u001b[38;5;241;43m.\u001b[39;49m\u001b[43mexterior\u001b[49m\u001b[38;5;241m.\u001b[39mcoords], fill\u001b[38;5;241m=\u001b[39m\u001b[38;5;28;01mTrue\u001b[39;00m, color\u001b[38;5;241m=\u001b[39mmodulate_color(color, \u001b[38;5;241m1\u001b[39m\u001b[38;5;241m-\u001b[39m depth[\u001b[38;5;241m1\u001b[39m]\u001b[38;5;241m/\u001b[39m\u001b[38;5;241m100\u001b[39m))\n\u001b[1;32m     19\u001b[0m     plt\u001b[38;5;241m.\u001b[39mgca()\u001b[38;5;241m.\u001b[39madd_patch(polygon)\n\u001b[1;32m     22\u001b[0m \u001b[38;5;66;03m# get the limits of the polygons\u001b[39;00m\n",
      "\u001b[0;31mAttributeError\u001b[0m: 'numpy.float32' object has no attribute 'exterior'"
     ]
    }
   ],
   "source": [
    "import matplotlib.patches as patches\n",
    "\n",
    "from scm_irl.env.scm_irl_env import ScmIrlEnv\n",
    "import matplotlib.pyplot as plt\n",
    "from scm_irl.utils.plot_scenario import plot_cropbox_area, modulate_color, cmap_seachart\n",
    "path = \"/home/rolando/Documents/DTU/SCMarine/ais-and-charts-sample/ais_data/scenario_2a66ceaf61\"\n",
    "env = ScmIrlEnv(path, mmsi=215811000, awareness_zone = [2000, 2000, 1500, 1500])\n",
    "\n",
    "depths_lands_inside = env._get_observation_matrix()\n",
    "\n",
    "crop_box = env._create_crop_box()\n",
    "# plot the crop box\n",
    "\n",
    "\n",
    "\n",
    "color = 'dodgerblue'\n",
    "for depth in depths_lands_inside:\n",
    "    polygon = patches.Polygon([(x[0], x[1]) for x in depth[0].exterior.coords], fill=True, color=modulate_color(color, 1- depth[1]/100))\n",
    "    plt.gca().add_patch(polygon)\n",
    "\n",
    "\n",
    "# get the limits of the polygons\n",
    "x_min = min([x[0] for depth in depths_lands_inside for x in depth[0].exterior.coords])\n",
    "x_max = max([x[0] for depth in depths_lands_inside for x in depth[0].exterior.coords])\n",
    "y_min = min([x[1] for depth in depths_lands_inside for x in depth[0].exterior.coords])\n",
    "y_max = max([x[1] for depth in depths_lands_inside for x in depth[0].exterior.coords])\n",
    "\n",
    "# Set the axes limits to fit the plot\n",
    "plt.xlim(x_min, x_max)\n",
    "plt.ylim(y_min, y_max)\n",
    "\n",
    "plt.gca().set_aspect('equal', adjustable='box')\n",
    "\n",
    "plt.show()"
   ]
  },
  {
   "cell_type": "code",
   "execution_count": 13,
   "metadata": {},
   "outputs": [
    {
     "data": {
      "text/plain": [
       "<matplotlib.image.AxesImage at 0x722ec27fb990>"
      ]
     },
     "execution_count": 13,
     "metadata": {},
     "output_type": "execute_result"
    },
    {
     "data": {
      "image/png": "[encoded data removed]",
      "text/plain": [
       "<Figure size 640x480 with 1 Axes>"
      ]
     },
     "metadata": {},
     "output_type": "display_data"
    }
   ],
   "source": [
    "resolution = 1\n",
    "from rasterio.features import rasterize\n",
    "from rasterio.transform import from_origin\n",
    "\n",
    "# Get the crop box\n",
    "crop_box = env._create_crop_box(angle=90)\n",
    "\n",
    "min_x, min_y, max_x, max_y = crop_box.bounds\n",
    "\n",
    "# Determine the number of rows and columns of the raster\n",
    "num_rows = int((max_y - min_y) / resolution)\n",
    "num_cols = int((max_x - min_x) / resolution)\n",
    "\n",
    "# Create a transformation matrix\n",
    "transform = from_origin(min_x, max_y, resolution, resolution)\n",
    "# Create the matrix\n",
    "matrix = rasterize(depths_lands_inside, out_shape=(num_rows, num_cols), transform=transform, fill=-1)\n",
    "\n",
    "plt.imshow(matrix, cmap='viridis')"
   ]
  },
  {
   "cell_type": "code",
   "execution_count": 1,
   "metadata": {},
   "outputs": [
    {
     "ename": "NameError",
     "evalue": "name 'matrix' is not defined",
     "output_type": "error",
     "traceback": [
      "\u001b[0;31m---------------------------------------------------------------------------\u001b[0m",
      "\u001b[0;31mNameError\u001b[0m                                 Traceback (most recent call last)",
      "Cell \u001b[0;32mIn[1], line 5\u001b[0m\n\u001b[1;32m      1\u001b[0m \u001b[38;5;28;01mimport\u001b[39;00m \u001b[38;5;21;01mcv2\u001b[39;00m\n\u001b[1;32m      2\u001b[0m \u001b[38;5;28;01mimport\u001b[39;00m \u001b[38;5;21;01mnumpy\u001b[39;00m \u001b[38;5;28;01mas\u001b[39;00m \u001b[38;5;21;01mnp\u001b[39;00m\n\u001b[0;32m----> 5\u001b[0m matrix[\u001b[38;5;241m-\u001b[39m\u001b[38;5;241m1\u001b[39m,:] \u001b[38;5;241m=\u001b[39m (\u001b[43mmatrix\u001b[49m[\u001b[38;5;241m-\u001b[39m\u001b[38;5;241m2\u001b[39m,:] \u001b[38;5;241m+\u001b[39m matrix[\u001b[38;5;241m-\u001b[39m\u001b[38;5;241m3\u001b[39m,:])\u001b[38;5;241m/\u001b[39m\u001b[38;5;241m2\u001b[39m\n\u001b[1;32m      6\u001b[0m matrix[:,\u001b[38;5;241m-\u001b[39m\u001b[38;5;241m1\u001b[39m] \u001b[38;5;241m=\u001b[39m (matrix[:,\u001b[38;5;241m-\u001b[39m\u001b[38;5;241m2\u001b[39m] \u001b[38;5;241m+\u001b[39m matrix[:,\u001b[38;5;241m-\u001b[39m\u001b[38;5;241m3\u001b[39m])\u001b[38;5;241m/\u001b[39m\u001b[38;5;241m2\u001b[39m\n\u001b[1;32m      7\u001b[0m matrix[\u001b[38;5;241m0\u001b[39m,:] \u001b[38;5;241m=\u001b[39m (matrix[\u001b[38;5;241m1\u001b[39m,:] \u001b[38;5;241m+\u001b[39m matrix[\u001b[38;5;241m2\u001b[39m,:])\u001b[38;5;241m/\u001b[39m\u001b[38;5;241m2\u001b[39m\n",
      "\u001b[0;31mNameError\u001b[0m: name 'matrix' is not defined"
     ]
    }
   ],
   "source": [
    "import cv2\n",
    "import numpy as np\n",
    "\n",
    "\n",
    "matrix[-1,:] = (matrix[-2,:] + matrix[-3,:])/2\n",
    "matrix[:,-1] = (matrix[:,-2] + matrix[:,-3])/2\n",
    "matrix[0,:] = (matrix[1,:] + matrix[2,:])/2\n",
    "matrix[:,0] = (matrix[:,1] + matrix[:,2])/2\n",
    "\n",
    "# Convert the matrix to a floating-point image\n",
    "matrix_float = matrix.astype(np.float32)\n",
    "\n",
    "# Create a mask of missing values\n",
    "mask = (matrix_float == -1).astype(np.uint8)\n",
    "\n",
    "# Use inpaint to fill the missing values\n",
    "matrix_filled = cv2.inpaint(matrix_float, mask, inpaintRadius=2, flags=cv2.INPAINT_NS)\n",
    "\n",
    "plt.imshow(matrix_filled, cmap='viridis')"
   ]
  }
 ],
 "metadata": {
  "kernelspec": {
   "display_name": "scm",
   "language": "python",
   "name": "python3"
  },
  "language_info": {
   "codemirror_mode": {
    "name": "ipython",
    "version": 3
   },
   "file_extension": ".py",
   "mimetype": "text/x-python",
   "name": "python",
   "nbconvert_exporter": "python",
   "pygments_lexer": "ipython3",
   "version": "3.11.8"
  }
 },
 "nbformat": 4,
 "nbformat_minor": 2
}
