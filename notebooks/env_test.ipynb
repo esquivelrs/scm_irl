{
 "cells": [
  {
   "cell_type": "code",
   "execution_count": 3,
   "metadata": {},
   "outputs": [
    {
     "name": "stderr",
     "output_type": "stream",
     "text": [
      "/home/rolando/anaconda3/envs/scm/lib/python3.11/site-packages/hydra/experimental/initialize.py:116: UserWarning: hydra.experimental.initialize_config_dir() is no longer experimental. Use hydra.initialize_config_dir().\n",
      "  deprecation_warning(message=message)\n",
      "/home/rolando/anaconda3/envs/scm/lib/python3.11/site-packages/hydra/experimental/initialize.py:118: UserWarning: \n",
      "The version_base parameter is not specified.\n",
      "Please specify a compatability version level, or None.\n",
      "Will assume defaults for version 1.1\n",
      "  self.delegate = real_initialize_config_dir(\n",
      "/home/rolando/anaconda3/envs/scm/lib/python3.11/site-packages/hydra/experimental/compose.py:25: UserWarning: hydra.experimental.compose() is no longer experimental. Use hydra.compose()\n",
      "  deprecation_warning(message=message)\n",
      "/home/rolando/anaconda3/envs/scm/lib/python3.11/site-packages/hydra/_internal/defaults_list.py:251: UserWarning: In 'train_rl.yaml': Defaults list is missing `_self_`. See https://hydra.cc/docs/1.2/upgrades/1.0_to_1.1/default_composition_order for more information\n",
      "  warnings.warn(msg, UserWarning)\n"
     ]
    },
    {
     "name": "stdout",
     "output_type": "stream",
     "text": [
      "{'env': {'seamarks': {'vessel': {'value': 1, 'color': [0, 0, 0], 'size': 1.0}, 'Unknown': {'value': 2, 'color': [96, 96, 96], 'size': 1.0}, 'way': {'value': 3, 'color': [255, 255, 0]}, 'beacon_lateral': {'value': 4, 'color': [128, 0, 128], 'size': 1.0}, 'light_minor': {'value': 5, 'color': [165, 42, 42], 'size': 1.0}, 'bridge': {'value': 6, 'color': [128, 128, 128], 'size': 1.0}, 'buoy_special_purpose': {'value': 7, 'color': [255, 0, 255], 'size': 1.0}, 'buoy_cardinal': {'value': 8, 'color': [255, 255, 255], 'size': 1.0}, 'beacon_special_purpose': {'value': 9, 'color': [192, 192, 192], 'size': 1.0}, 'small_craft_facility': {'value': 10, 'color': [255, 215, 0], 'size': 1.0}, 'sea_area': {'value': 11, 'color': [255, 105, 180], 'size': 1.0}, 'mooring': {'value': 12, 'color': [128, 0, 0], 'size': 1.0}, 'rock': {'value': 13, 'color': [255, 140, 0], 'size': 1.0}, 'pile': {'value': 14, 'color': [153, 50, 204], 'size': 1.0}, 'obstruction': {'value': 15, 'color': [139, 69, 19], 'size': 1.0}, 'landmark': {'value': 16, 'color': [105, 105, 105], 'size': 1.0}, 'harbour': {'value': 17, 'color': [255, 20, 147], 'size': 1.0}, 'building': {'value': 18, 'color': [255, 165, 0], 'size': 1.0}, 'pilot_boarding': {'value': 19, 'color': [255, 99, 71], 'size': 1.0}, 'wreck': {'value': 20, 'color': [160, 82, 45], 'size': 1.0}, 'crane': {'value': 21, 'color': [255, 0, 255], 'size': 1.0}, 'radar_station': {'value': 22, 'color': [255, 192, 203], 'size': 1.0}, 'buoy_isolated_danger': {'value': 23, 'color': [255, 218, 185], 'size': 1.0}, 'signal_station_warning': {'value': 24, 'color': [210, 105, 30], 'size': 1.0}, 'light_major': {'value': 25, 'color': [255, 160, 122], 'size': 1.0}, 'buoy_safe_water': {'value': 26, 'color': [255, 192, 203], 'size': 1.0}, 'buoy_lateral': {'value': 27, 'color': [255, 165, 0], 'size': 1.0}, 'berth': {'value': 28, 'color': [255, 69, 0], 'size': 1.0}}, 'bicycle_model': False, 'copy_expert': False, 'dist_metric': 'l1', 'start_random': True, 'sog_scale': 13, 'cog_scale': 1, 'depth_max': 100, 'seamark_max': 50, 'vessel_types_max': 5, 'valid_vessels': ['Cargo', 'Tanker']}, 'shiptypes': {'name': 'tanker', 'env': {'id': 1, 'value': 1, 'priority': 1, 'awareness_zone': [1000, 1000, 1000, 1000]}}, 'policy': 'MlpPolicy', 'total_timesteps': 500000, 'env_name': 'ScmIrl-v0', 'multi_scenario': True, 'scenarios_path': '../data/raw/', 'scenario_name': 'scenario_2a66ceaf61', 'number_envs': 5}\n",
      "mmsi: 215811000, start_time: 1577904600.0, end_time: 1577906100.0\n",
      "VesselMetaData(mmsi=215811000, ship_type='Tanker', width=42.0, length=244.0, draught=15.0, nav_status=4)\n",
      "VesselState(timestamp=0.0, lat=121.62966767843639, lon=1847.8675034043845, sog=4.915240363636364, cog=0.4191963530699095)\n",
      "action: (0.4036375384615384, 0.2894444444444442)\n",
      "agent_: [4.53154074e+03 4.16563929e+03 5.24728800e+00 9.09316540e-01\n",
      " 4.53463880e+03 4.16984274e+03 4.06011877e-01 2.88111111e-01\n",
      " 1.68984392e+03 2.10668571e+03]\n",
      "0.006745214025696732\n",
      "action: (0.40601187692307694, 0.2881111111111109)\n",
      "agent_: [4.56413784e+03 4.20715219e+03 5.27815440e+00 9.05127750e-01\n",
      " 4.56573556e+03 4.21030255e+03 4.07594769e-01 2.88222222e-01\n",
      " 1.65724682e+03 2.06517281e+03]\n",
      "0.08668357139680993\n",
      "action: (0.40759476923076926, 0.2882222222222219)\n",
      "agent_: [4.59684747e+03 4.24883836e+03 5.29873200e+00 9.05476816e-01\n",
      " 4.59856493e+03 4.25255102e+03 4.07594769e-01 2.90101010e-01\n",
      " 1.62453719e+03 2.02348664e+03]\n",
      "0.04382542284622198\n",
      "action: (0.40759476923076926, 0.29010101010100964)\n",
      "agent_: [4.62931048e+03 4.29071686e+03 5.29873200e+00 9.11379202e-01\n",
      " 4.63267061e+03 4.29441587e+03 4.07594769e-01 2.90802469e-01\n",
      " 1.59207418e+03 1.98160814e+03]\n",
      "0.008595197186565427\n",
      "action: (0.40759476923076926, 0.2908024691358021)\n",
      "agent_: [4.66168113e+03 4.33266679e+03 5.29873200e+00 9.13582901e-01\n",
      " 4.66604463e+03 4.33509388e+03 4.07594769e-01 2.89222222e-01\n",
      " 1.55970353e+03 1.93965821e+03]\n",
      "0.011243074545318144\n",
      "action: (0.40759476923076926, 0.28922222222222194)\n",
      "agent_: [4.69425964e+03 4.37445551e+03 5.29873200e+00 9.08618409e-01\n",
      " 4.69937033e+03 4.37657451e+03 4.07594769e-01 2.87000000e-01\n",
      " 1.52712502e+03 1.89786949e+03]\n",
      "0.007247464388433186\n",
      "action: (0.40759476923076926, 0.2869999999999995)\n",
      "agent_: [4.72712909e+03 4.41601577e+03 5.29873200e+00 9.01637092e-01\n",
      " 4.73124889e+03 4.41772272e+03 4.07594769e-01 2.88444444e-01\n",
      " 1.49425557e+03 1.85630923e+03]\n",
      "0.029476443198081858\n",
      "action: (0.40759476923076926, 0.2884444444444442)\n",
      "agent_: [4.75980961e+03 4.45772476e+03 5.29873200e+00 9.06174948e-01\n",
      " 4.76259153e+03 4.45690998e+03 4.07594769e-01 2.88666667e-01\n",
      " 1.46157505e+03 1.81460024e+03]\n",
      "0.2741397182406668\n",
      "action: (0.40759476923076926, 0.28866666666666624)\n",
      "agent_: [4.79246101e+03 4.49945655e+03 5.29873200e+00 9.06873079e-01\n",
      " 4.79923878e+03 4.50139264e+03 4.09753259e-01 2.86868687e-01\n",
      " 1.42892366e+03 1.77286845e+03]\n",
      "0.001642918464446791\n",
      "action: (0.4097532587412588, 0.2868686868686865)\n",
      "agent_: [4.82552176e+03 4.54122326e+03 5.32679236e+00 9.01224559e-01\n",
      " 4.83323547e+03 4.54436716e+03 4.11552000e-01 2.87654321e-01\n",
      " 1.39586290e+03 1.73110174e+03]\n",
      "0.0001925756813373811\n"
     ]
    }
   ],
   "source": [
    "from scm_irl.env.scm_irl_env import ScmIrlEnv\n",
    "from sllib.conversions.geo_conversions import north_east_to_lat_lon, mps2knots, lat_lon_to_north_east\n",
    "import numpy as np\n",
    "from hydra.experimental import initialize_config_dir, compose\n",
    "\n",
    "path = \"/home/rolando/Documents/DTU/SCMarine/ais-and-charts-sample/ais_data/scenario_2a66ceaf61\"\n",
    "#path = \"/home/rolando/Documents/DTU/SCMarine/scm_irl/data/raw/scenario_01e88fc6af\"\n",
    "#path = \"/home/rolando/Documents/DTU/SCMarine/scm_irl/data/raw/scenario_3cb9cf2af3\"\n",
    "#path = \"/home/rolando/Documents/DTU/SCMarine/scm_irl/data/raw/scenario_121252efbd\"\n",
    "#215811000\n",
    "#219016555\n",
    "#219023834\n",
    "#, mmsi=215811000\n",
    "#env = ScmIrlEnv(path, mmsi=215811000, awareness_zone = [500, 2000, 1000, 1000])\n",
    "#env = ScmIrlEnv(path, mmsi=215811000, awareness_zone = [500, 1000, 500, 500], render_mode=\"human\", resolution=1)\n",
    "#env = ScmIrlEnv(path, awareness_zone = [300, 600, 300, 300], render_mode=\"human\", resolution=1)\n",
    "#env = ScmIrlEnv(path, mmsi=215811000, awareness_zone = [300, 600, 300, 300], render_mode=\"human\", resolution=1 , start_time_reference=1577905000.0)\n",
    "\n",
    "# Load the hydra config (config_path=\"../scm_irl/conf\", config_name=\"train_rl\")\n",
    "with initialize_config_dir(config_dir=\"/home/rolando/Documents/DTU/SCMarine/scm_irl/scm_irl/conf\"):\n",
    "    cfg = compose(config_name=\"train_rl.yaml\")\n",
    "\n",
    "# Access the config values\n",
    "print(cfg)\n",
    "\n",
    "env = ScmIrlEnv(cfg, path, mmsi=215811000, awareness_zone = [300, 600, 300, 300], render_mode=\"human\", resolution=1)\n",
    "\n",
    "#env = ScmIrlEnv(path, mmsi=219002731, awareness_zone = [500, 1000, 500, 500], render_mode=\"human\", resolution=10)\n",
    "\n",
    "#env.step([2,1])\n",
    "env.mmsi\n",
    "\n",
    "print(env.get_vessel_metadata())\n",
    "\n",
    "\n",
    "\n",
    "print(env.agent_state)\n",
    "\n",
    "timestep = env.timestep\n",
    "\n",
    "env.reset()\n",
    "\n",
    "\n",
    "#while not (env.truncated or env.terminate):\n",
    "for i in range(100):\n",
    "    timestep = env.timestep\n",
    "    action = env.get_action_from_vessel(timestep)\n",
    "    print(f\"action: {action}\")\n",
    "    #action = (action[0], -0.5)\n",
    "    agent_state, reward, terminate, truncated, info = env.step(action)\n",
    "\n",
    "    print(f\"agent_: {agent_state}\")\n",
    "    print(reward)\n",
    "\n",
    "\n",
    "    #print(action)\n",
    "    #print(ret)\n",
    "\n",
    "#     # create random action\n",
    "#     # action = env.action_space.sample()\n",
    "#     # # take action\n",
    "#     # env.step(action)\n",
    "#     env.step([2.0055,i])\n",
    "\n",
    "env.close()"
   ]
  },
  {
   "cell_type": "code",
   "execution_count": 6,
   "metadata": {},
   "outputs": [
    {
     "name": "stderr",
     "output_type": "stream",
     "text": [
      "/home/rolando/anaconda3/envs/scm/lib/python3.11/site-packages/hydra/experimental/initialize.py:116: UserWarning: hydra.experimental.initialize_config_dir() is no longer experimental. Use hydra.initialize_config_dir().\n",
      "  deprecation_warning(message=message)\n",
      "/home/rolando/anaconda3/envs/scm/lib/python3.11/site-packages/hydra/experimental/initialize.py:118: UserWarning: \n",
      "The version_base parameter is not specified.\n",
      "Please specify a compatability version level, or None.\n",
      "Will assume defaults for version 1.1\n",
      "  self.delegate = real_initialize_config_dir(\n",
      "/home/rolando/anaconda3/envs/scm/lib/python3.11/site-packages/hydra/experimental/compose.py:25: UserWarning: hydra.experimental.compose() is no longer experimental. Use hydra.compose()\n",
      "  deprecation_warning(message=message)\n",
      "/home/rolando/anaconda3/envs/scm/lib/python3.11/site-packages/hydra/_internal/defaults_list.py:251: UserWarning: In 'train_rl.yaml': Defaults list is missing `_self_`. See https://hydra.cc/docs/1.2/upgrades/1.0_to_1.1/default_composition_order for more information\n",
      "  warnings.warn(msg, UserWarning)\n"
     ]
    },
    {
     "name": "stdout",
     "output_type": "stream",
     "text": [
      "scenario_2a66ceaf61\n",
      "{}\n",
      "mmsi: 215811000, start_time: 1577904600.0, end_time: 1577906100.0\n",
      "{'2a66ceaf61': [215811000]}\n",
      "no more mmsi to use in the scenario /home/rolando/Documents/DTU/SCMarine/scm_irl/data/raw/scenario_2a66ceaf61\n",
      "scenario_97426ae0c2\n",
      "{'2a66ceaf61': [215811000]}\n",
      "no valid mmsi in the scenario /home/rolando/Documents/DTU/SCMarine/scm_irl/data/raw/scenario_97426ae0c2\n",
      "scenario_121252efbd\n",
      "{'2a66ceaf61': [215811000]}\n",
      "no valid mmsi in the scenario /home/rolando/Documents/DTU/SCMarine/scm_irl/data/raw/scenario_121252efbd\n",
      "scenario_3cb9cf2af3\n",
      "{'2a66ceaf61': [215811000]}\n",
      "mmsi: 248660000, start_time: 1577855400.0, end_time: 1577856900.0\n",
      "{'2a66ceaf61': [215811000], '3cb9cf2af3': [248660000]}\n",
      "mmsi: 538003902, start_time: 1577855400.0, end_time: 1577856900.0\n",
      "{'2a66ceaf61': [215811000], '3cb9cf2af3': [248660000, 538003902]}\n",
      "mmsi: 248518000, start_time: 1577855400.0, end_time: 1577856900.0\n",
      "{'2a66ceaf61': [215811000], '3cb9cf2af3': [248660000, 538003902, 248518000]}\n",
      "mmsi: 636014783, start_time: 1577855400.0, end_time: 1577856900.0\n",
      "{'2a66ceaf61': [215811000], '3cb9cf2af3': [248660000, 538003902, 248518000, 636014783]}\n",
      "no more mmsi to use in the scenario /home/rolando/Documents/DTU/SCMarine/scm_irl/data/raw/scenario_3cb9cf2af3\n",
      "scenario_113851c356\n",
      "{'2a66ceaf61': [215811000], '3cb9cf2af3': [248660000, 538003902, 248518000, 636014783]}\n",
      "mmsi: 215811000, start_time: 1577919600.0, end_time: 1577921100.0\n",
      "{'2a66ceaf61': [215811000], '3cb9cf2af3': [248660000, 538003902, 248518000, 636014783], '113851c356': [215811000]}\n",
      "mmsi: 375354000, start_time: 1577919600.0, end_time: 1577921100.0\n",
      "{'2a66ceaf61': [215811000], '3cb9cf2af3': [248660000, 538003902, 248518000, 636014783], '113851c356': [215811000, 375354000]}\n",
      "mmsi: 354879000, start_time: 1577919600.0, end_time: 1577921100.0\n",
      "{'2a66ceaf61': [215811000], '3cb9cf2af3': [248660000, 538003902, 248518000, 636014783], '113851c356': [215811000, 375354000, 354879000]}\n",
      "no more mmsi to use in the scenario /home/rolando/Documents/DTU/SCMarine/scm_irl/data/raw/scenario_113851c356\n",
      "scenario_96324a785d\n",
      "{'2a66ceaf61': [215811000], '3cb9cf2af3': [248660000, 538003902, 248518000, 636014783], '113851c356': [215811000, 375354000, 354879000]}\n",
      "mmsi: 249605000, start_time: 1577848200.0, end_time: 1577849700.0\n",
      "{'2a66ceaf61': [215811000], '3cb9cf2af3': [248660000, 538003902, 248518000, 636014783], '113851c356': [215811000, 375354000, 354879000], '96324a785d': [249605000]}\n",
      "mmsi: 372798000, start_time: 1577848200.0, end_time: 1577849700.0\n",
      "{'2a66ceaf61': [215811000], '3cb9cf2af3': [248660000, 538003902, 248518000, 636014783], '113851c356': [215811000, 375354000, 354879000], '96324a785d': [249605000, 372798000]}\n",
      "no more mmsi to use in the scenario /home/rolando/Documents/DTU/SCMarine/scm_irl/data/raw/scenario_96324a785d\n",
      "scenario_01e88fc6af\n",
      "{'2a66ceaf61': [215811000], '3cb9cf2af3': [248660000, 538003902, 248518000, 636014783], '113851c356': [215811000, 375354000, 354879000], '96324a785d': [249605000, 372798000]}\n",
      "mmsi: 249605000, start_time: 1577873110.0, end_time: 1577874610.0\n",
      "{'2a66ceaf61': [215811000], '3cb9cf2af3': [248660000, 538003902, 248518000, 636014783], '113851c356': [215811000, 375354000, 354879000], '96324a785d': [249605000, 372798000], '01e88fc6af': [249605000]}\n",
      "mmsi: 636016416, start_time: 1577873110.0, end_time: 1577874610.0\n",
      "{'2a66ceaf61': [215811000], '3cb9cf2af3': [248660000, 538003902, 248518000, 636014783], '113851c356': [215811000, 375354000, 354879000], '96324a785d': [249605000, 372798000], '01e88fc6af': [249605000, 636016416]}\n",
      "mmsi: 229883000, start_time: 1577873110.0, end_time: 1577874610.0\n",
      "{'2a66ceaf61': [215811000], '3cb9cf2af3': [248660000, 538003902, 248518000, 636014783], '113851c356': [215811000, 375354000, 354879000], '96324a785d': [249605000, 372798000], '01e88fc6af': [249605000, 636016416, 229883000]}\n",
      "no more mmsi to use in the scenario /home/rolando/Documents/DTU/SCMarine/scm_irl/data/raw/scenario_01e88fc6af\n",
      "{'2a66ceaf61': [215811000], '3cb9cf2af3': [248660000, 538003902, 248518000, 636014783], '113851c356': [215811000, 375354000, 354879000], '96324a785d': [249605000, 372798000], '01e88fc6af': [249605000, 636016416, 229883000]}\n"
     ]
    }
   ],
   "source": [
    "from scm_irl.env.scm_irl_env import ScmIrlEnv\n",
    "from sllib.conversions.geo_conversions import north_east_to_lat_lon, mps2knots, lat_lon_to_north_east\n",
    "import numpy as np\n",
    "from hydra.experimental import initialize_config_dir, compose\n",
    "import os\n",
    "\n",
    "path = \"/home/rolando/Documents/DTU/SCMarine/scm_irl/data/raw\"\n",
    "\n",
    "with initialize_config_dir(config_dir=\"/home/rolando/Documents/DTU/SCMarine/scm_irl/scm_irl/conf\"):\n",
    "    cfg = compose(config_name=\"train_rl.yaml\")\n",
    "\n",
    "# Access the config values\n",
    "\n",
    "\n",
    "dict_scenarios = {}\n",
    "for dir in os.listdir(path):\n",
    "    if os.path.isdir(os.path.join(path, dir)):\n",
    "\n",
    "        print(dir)\n",
    "        mmsi = 1\n",
    "        path_scenario = os.path.join(path, dir)\n",
    "        scenario_id = dir.split(\"_\")[-1]\n",
    "        while mmsi is not None:\n",
    "            #print(dict_scenarios)\n",
    "            env = ScmIrlEnv(cfg, path_scenario, \n",
    "                            awareness_zone = [300, 600, 300, 300], \n",
    "                            render_mode=\"rgb_array\", resolution=1, \n",
    "                            dict_scenarios=dict_scenarios)\n",
    "            mmsi = env.mmsi\n",
    "            if mmsi is not None:\n",
    "                if scenario_id not in dict_scenarios:\n",
    "                    dict_scenarios[scenario_id] = [mmsi]\n",
    "                else:\n",
    "                    dict_scenarios[scenario_id].append(mmsi)\n",
    "\n",
    "\n",
    "        #print(env.get_vessel_metadata())\n",
    "        #env.close()\n",
    "    \n",
    "\n",
    "print(dict_scenarios)\n",
    "\n",
    "#env = ScmIrlEnv(cfg, path, mmsi=215811000, awareness_zone = [300, 600, 300, 300], render_mode=\"human\", resolution=1)\n",
    "\n"
   ]
  },
  {
   "cell_type": "code",
   "execution_count": 16,
   "metadata": {},
   "outputs": [
    {
     "name": "stdout",
     "output_type": "stream",
     "text": [
      "Random Time: 150\n"
     ]
    }
   ],
   "source": [
    "import random\n",
    "\n",
    "# Example values for start_time, end_time, and sampling_time\n",
    "start_time = 100  # Starting number\n",
    "end_time = 200 - 2     # Ending number\n",
    "sampling_time = 10  # Step\n",
    "\n",
    "# Generate a list of numbers from start_time to end_time with steps of sampling_time\n",
    "time_steps = list(range(start_time, end_time, sampling_time))\n",
    "\n",
    "# Select a random value from the list of time steps\n",
    "random_time = random.choice(time_steps)\n",
    "\n",
    "print(f\"Random Time: {random_time}\")"
   ]
  },
  {
   "cell_type": "code",
   "execution_count": 1,
   "metadata": {},
   "outputs": [
    {
     "name": "stdout",
     "output_type": "stream",
     "text": [
      "mmsi: 215811000, start_time: 1577904600.0, end_time: 1577906100.0\n"
     ]
    },
    {
     "data": {
      "text/plain": [
       "<matplotlib.image.AxesImage at 0x7edb31bb1a50>"
      ]
     },
     "execution_count": 1,
     "metadata": {},
     "output_type": "execute_result"
    },
    {
     "data": {
      "image/png": "[encoded data removed]",
      "text/plain": [
       "<Figure size 640x480 with 1 Axes>"
      ]
     },
     "metadata": {},
     "output_type": "display_data"
    }
   ],
   "source": [
    "from scm_irl.env.scm_irl_env import ScmIrlEnv\n",
    "import matplotlib.pyplot as plt\n",
    "from scm_irl.utils.plot_scenario import plot_cropbox_area, modulate_color, cmap_seachart\n",
    "path = \"/home/rolando/Documents/DTU/SCMarine/ais-and-charts-sample/ais_data/scenario_2a66ceaf61\"\n",
    "#path = \"/home/rolando/Documents/DTU/SCMarine/scm_irl/data/raw/scenario_01e88fc6af\"\n",
    "#path = \"/home/rolando/Documents/DTU/SCMarine/scm_irl/data/raw/scenario_3cb9cf2af3\"\n",
    "#215811000\n",
    "#219016555\n",
    "#219023834\n",
    "#, mmsi=215811000\n",
    "env = ScmIrlEnv(path, mmsi=215811000, awareness_zone = [2000, 2000, 1500, 1500])\n",
    "\n",
    "cmap = cmap_seachart()\n",
    "\n",
    "plt.imshow(env.observation_matrix/60, cmap=cmap, vmin=0, vmax=1)"
   ]
  },
  {
   "cell_type": "code",
   "execution_count": 40,
   "metadata": {},
   "outputs": [
    {
     "name": "stdout",
     "output_type": "stream",
     "text": [
      "mmsi: 215811000, start_time: 1577904600.0, end_time: 1577906100.0\n"
     ]
    },
    {
     "data": {
      "image/png": "[encoded data removed]",
      "text/plain": [
       "<Figure size 640x480 with 1 Axes>"
      ]
     },
     "metadata": {},
     "output_type": "display_data"
    }
   ],
   "source": [
    "import matplotlib.patches as patches\n",
    "\n",
    "from scm_irl.env.scm_irl_env import ScmIrlEnv\n",
    "import matplotlib.pyplot as plt\n",
    "from scm_irl.utils.plot_scenario import plot_cropbox_area, modulate_color, cmap_seachart\n",
    "path = \"/home/rolando/Documents/DTU/SCMarine/ais-and-charts-sample/ais_data/scenario_2a66ceaf61\"\n",
    "env = ScmIrlEnv(path, mmsi=215811000, awareness_zone = [2000, 2000, 1500, 1500])\n",
    "\n",
    "depths_lands_inside = env._get_observation_matrix2()\n",
    "\n",
    "crop_box = env._create_crop_box()\n",
    "# plot the crop box\n",
    "\n",
    "\n",
    "\n",
    "color = 'dodgerblue'\n",
    "for depth in depths_lands_inside:\n",
    "    polygon = patches.Polygon([(x[0], x[1]) for x in depth[0].exterior.coords], fill=True, color=modulate_color(color, 1- depth[1]/100))\n",
    "    plt.gca().add_patch(polygon)\n",
    "\n",
    "\n",
    "# get the limits of the polygons\n",
    "x_min = min([x[0] for depth in depths_lands_inside for x in depth[0].exterior.coords])\n",
    "x_max = max([x[0] for depth in depths_lands_inside for x in depth[0].exterior.coords])\n",
    "y_min = min([x[1] for depth in depths_lands_inside for x in depth[0].exterior.coords])\n",
    "y_max = max([x[1] for depth in depths_lands_inside for x in depth[0].exterior.coords])\n",
    "\n",
    "# Set the axes limits to fit the plot\n",
    "plt.xlim(x_min, x_max)\n",
    "plt.ylim(y_min, y_max)\n",
    "\n",
    "plt.gca().set_aspect('equal', adjustable='box')\n",
    "\n",
    "plt.show()"
   ]
  },
  {
   "cell_type": "code",
   "execution_count": 2,
   "metadata": {},
   "outputs": [
    {
     "data": {
      "text/plain": [
       "<matplotlib.image.AxesImage at 0x7ee3b88ea350>"
      ]
     },
     "execution_count": 2,
     "metadata": {},
     "output_type": "execute_result"
    },
    {
     "data": {
      "image/png": "[encoded data removed]",
      "text/plain": [
       "<Figure size 640x480 with 1 Axes>"
      ]
     },
     "metadata": {},
     "output_type": "display_data"
    }
   ],
   "source": [
    "resolution = 1\n",
    "from rasterio.features import rasterize\n",
    "from rasterio.transform import from_origin\n",
    "\n",
    "# Get the crop box\n",
    "crop_box = env._create_crop_box(angle=90)\n",
    "\n",
    "min_x, min_y, max_x, max_y = crop_box.bounds\n",
    "\n",
    "# Determine the number of rows and columns of the raster\n",
    "num_rows = int((max_y - min_y) / resolution)\n",
    "num_cols = int((max_x - min_x) / resolution)\n",
    "\n",
    "# Create a transformation matrix\n",
    "transform = from_origin(min_x, max_y, resolution, resolution)\n",
    "# Create the matrix\n",
    "matrix = rasterize(depths_lands_inside, out_shape=(num_rows, num_cols), transform=transform, fill=-1)\n",
    "\n",
    "plt.imshow(matrix, cmap='viridis')"
   ]
  },
  {
   "cell_type": "code",
   "execution_count": 1,
   "metadata": {},
   "outputs": [
    {
     "ename": "NameError",
     "evalue": "name 'matrix' is not defined",
     "output_type": "error",
     "traceback": [
      "\u001b[0;31m---------------------------------------------------------------------------\u001b[0m",
      "\u001b[0;31mNameError\u001b[0m                                 Traceback (most recent call last)",
      "Cell \u001b[0;32mIn[1], line 5\u001b[0m\n\u001b[1;32m      1\u001b[0m \u001b[38;5;28;01mimport\u001b[39;00m \u001b[38;5;21;01mcv2\u001b[39;00m\n\u001b[1;32m      2\u001b[0m \u001b[38;5;28;01mimport\u001b[39;00m \u001b[38;5;21;01mnumpy\u001b[39;00m \u001b[38;5;28;01mas\u001b[39;00m \u001b[38;5;21;01mnp\u001b[39;00m\n\u001b[0;32m----> 5\u001b[0m matrix[\u001b[38;5;241m-\u001b[39m\u001b[38;5;241m1\u001b[39m,:] \u001b[38;5;241m=\u001b[39m (\u001b[43mmatrix\u001b[49m[\u001b[38;5;241m-\u001b[39m\u001b[38;5;241m2\u001b[39m,:] \u001b[38;5;241m+\u001b[39m matrix[\u001b[38;5;241m-\u001b[39m\u001b[38;5;241m3\u001b[39m,:])\u001b[38;5;241m/\u001b[39m\u001b[38;5;241m2\u001b[39m\n\u001b[1;32m      6\u001b[0m matrix[:,\u001b[38;5;241m-\u001b[39m\u001b[38;5;241m1\u001b[39m] \u001b[38;5;241m=\u001b[39m (matrix[:,\u001b[38;5;241m-\u001b[39m\u001b[38;5;241m2\u001b[39m] \u001b[38;5;241m+\u001b[39m matrix[:,\u001b[38;5;241m-\u001b[39m\u001b[38;5;241m3\u001b[39m])\u001b[38;5;241m/\u001b[39m\u001b[38;5;241m2\u001b[39m\n\u001b[1;32m      7\u001b[0m matrix[\u001b[38;5;241m0\u001b[39m,:] \u001b[38;5;241m=\u001b[39m (matrix[\u001b[38;5;241m1\u001b[39m,:] \u001b[38;5;241m+\u001b[39m matrix[\u001b[38;5;241m2\u001b[39m,:])\u001b[38;5;241m/\u001b[39m\u001b[38;5;241m2\u001b[39m\n",
      "\u001b[0;31mNameError\u001b[0m: name 'matrix' is not defined"
     ]
    }
   ],
   "source": [
    "import cv2\n",
    "import numpy as np\n",
    "\n",
    "\n",
    "matrix[-1,:] = (matrix[-2,:] + matrix[-3,:])/2\n",
    "matrix[:,-1] = (matrix[:,-2] + matrix[:,-3])/2\n",
    "matrix[0,:] = (matrix[1,:] + matrix[2,:])/2\n",
    "matrix[:,0] = (matrix[:,1] + matrix[:,2])/2\n",
    "\n",
    "# Convert the matrix to a floating-point image\n",
    "matrix_float = matrix.astype(np.float32)\n",
    "\n",
    "# Create a mask of missing values\n",
    "mask = (matrix_float == -1).astype(np.uint8)\n",
    "\n",
    "# Use inpaint to fill the missing values\n",
    "matrix_filled = cv2.inpaint(matrix_float, mask, inpaintRadius=2, flags=cv2.INPAINT_NS)\n",
    "\n",
    "plt.imshow(matrix_filled, cmap='viridis')"
   ]
  },
  {
   "cell_type": "code",
   "execution_count": 42,
   "metadata": {},
   "outputs": [
    {
     "name": "stderr",
     "output_type": "stream",
     "text": [
      "/tmp/ipykernel_1791370/2921240431.py:11: ShapelyDeprecationWarning: The 'cascaded_union()' function is deprecated. Use 'unary_union()' instead.\n",
      "  polygons_union = cascaded_union([polygon for polygon, depth in depths_lands_inside])\n"
     ]
    }
   ],
   "source": [
    "from shapely.geometry import Polygon\n",
    "from shapely.ops import cascaded_union\n",
    "\n",
    "\n",
    "\n",
    "crop_box = env._create_crop_box(angle=90)\n",
    "#depths_lands_inside.append((crop_box, -1))\n",
    "\n",
    "\n",
    "# # Create a union of all the polygons that intersect with the crop box\n",
    "polygons_union = cascaded_union([polygon for polygon, depth in depths_lands_inside])\n",
    "\n",
    "# # Create a polygon that represents the area of the crop box not covered by any polygon\n",
    "empty_area = crop_box.difference(polygons_union)\n",
    "\n",
    "# # Find the nearest polygon and its depth\n",
    "# nearest_polygon, nearest_depth = min(depths_lands_inside, key=lambda item: item[0].distance(empty_area))\n",
    "\n",
    "# # Create a new polygon that covers the empty area and assign it the depth of the nearest polygon\n",
    "# new_polygon = (empty_area.geoms[1], nearest_depth)\n",
    "\n",
    "# # Add the new polygon to the list of polygons and their depths\n",
    "# depths_lands_inside.append(new_polygon)\n",
    "\n",
    "from scipy.spatial import Voronoi\n",
    "from shapely.geometry import MultiPoint\n",
    "from shapely.ops import polygonize\n",
    "\n",
    "# Get all the vertices of the polygons\n",
    "vertices = [point for polygon, depth in depths_lands_inside for point in polygon.exterior.coords]\n",
    "\n",
    "# Create a Voronoi diagram from the vertices\n",
    "vor = Voronoi(vertices)\n",
    "\n",
    "# Convert the Voronoi diagram to polygons\n",
    "#voronoi_polygons = [Polygon(cell) for cell in vor.regions if cell and -1 not in cell]\n",
    "voronoi_polygons = [Polygon(vor.vertices[cell]) for cell in vor.regions if cell and -1 not in cell]\n",
    "\n",
    "# Intersect the Voronoi polygons with the empty area to create new polygons\n",
    "new_polygons = [polygon.intersection(empty_area) for polygon in voronoi_polygons]\n",
    "\n",
    "# Find the nearest polygon and its depth for each new polygon\n",
    "for new_polygon in new_polygons:\n",
    "    nearest_polygon, nearest_depth = min(depths_lands_inside, key=lambda item: item[0].distance(new_polygon))\n",
    "    depths_lands_inside.append((new_polygon, nearest_depth))"
   ]
  },
  {
   "cell_type": "code",
   "execution_count": 50,
   "metadata": {},
   "outputs": [
    {
     "data": {
      "text/plain": [
       "[(<POLYGON ((2856.682 1303.687, 2740.409 1051.719, 2617.007 784.413, 2588.801 ...>,\n",
       "  50),\n",
       " (<POLYGON ((2566.363 309.45, 2588.801 520.195, 2617.007 784.413, 2740.409 105...>,\n",
       "  20),\n",
       " (<POLYGON ((350.01 829.167, 356.958 789.848, 357.361 787.432, 356.853 775.956...>,\n",
       "  20),\n",
       " (<POLYGON ((347.868 230.966, 347.868 19.963, 347.868 19.963, 347.868 230.966,...>,\n",
       "  20),\n",
       " (<POLYGON ((347.868 -284.207, 347.868 19.963, 347.868 19.963, 347.868 -284.20...>,\n",
       "  20),\n",
       " (<POLYGON ((347.868 443.773, 347.868 343.547, 347.868 343.547, 347.868 443.77...>,\n",
       "  20),\n",
       " (<POLYGON ((347.868 230.966, 347.868 343.547, 347.868 343.547, 347.868 230.96...>,\n",
       "  20),\n",
       " (<POLYGON ((347.868 572.955, 347.868 443.773, 347.868 443.773, 347.868 572.95...>,\n",
       "  20),\n",
       " (<POLYGON ((3008.533 368.939, 2758.986 395.508, 2985.256 496.598, 3008.533 36...>,\n",
       "  20),\n",
       " (<POLYGON ((347.868 808.515, 347.868 835.057, 347.868 835.057, 347.868 808.51...>,\n",
       "  20),\n",
       " (<POLYGON ((347.868 787.09, 347.868 782.103, 347.868 782.103, 347.868 787.09,...>,\n",
       "  20),\n",
       " (<POLYGON ((347.868 808.515, 347.868 787.09, 347.868 787.09, 347.868 808.515,...>,\n",
       "  20),\n",
       " (<POLYGON ((347.868 702.101, 347.868 572.955, 347.868 572.955, 347.868 702.10...>,\n",
       "  20),\n",
       " (<POLYGON ((347.868 766.325, 347.868 702.101, 347.868 702.101, 347.868 766.32...>,\n",
       "  20),\n",
       " (<POLYGON ((347.868 766.325, 347.868 782.103, 347.868 782.103, 347.868 766.32...>,\n",
       "  20)]"
      ]
     },
     "execution_count": 50,
     "metadata": {},
     "output_type": "execute_result"
    }
   ],
   "source": [
    "depths_lands_inside[3]\n",
    "\n",
    "# if polygon is empty, remove it\n",
    "depths_lands_inside = [(polygon, depth) for polygon, depth in depths_lands_inside if polygon.area > 0]\n",
    "\n",
    "depths_lands_inside"
   ]
  },
  {
   "cell_type": "code",
   "execution_count": 51,
   "metadata": {},
   "outputs": [
    {
     "data": {
      "image/png": "[encoded data removed]",
      "text/plain": [
       "<Figure size 640x480 with 1 Axes>"
      ]
     },
     "metadata": {},
     "output_type": "display_data"
    }
   ],
   "source": [
    "color = 'dodgerblue'\n",
    "for depth in depths_lands_inside:\n",
    "    polygon = patches.Polygon([(x[0], x[1]) for x in depth[0].exterior.coords], fill=True, color=modulate_color(color, 1- depth[1]/100))\n",
    "    plt.gca().add_patch(polygon)\n",
    "\n",
    "\n",
    "# get the limits of the polygons\n",
    "x_min = min([x[0] for depth in depths_lands_inside for x in depth[0].exterior.coords])\n",
    "x_max = max([x[0] for depth in depths_lands_inside for x in depth[0].exterior.coords])\n",
    "y_min = min([x[1] for depth in depths_lands_inside for x in depth[0].exterior.coords])\n",
    "y_max = max([x[1] for depth in depths_lands_inside for x in depth[0].exterior.coords])\n",
    "\n",
    "# Set the axes limits to fit the plot\n",
    "plt.xlim(x_min, x_max)\n",
    "plt.ylim(y_min, y_max)\n",
    "\n",
    "plt.gca().set_aspect('equal', adjustable='box')\n",
    "\n",
    "plt.show()"
   ]
  },
  {
   "cell_type": "code",
   "execution_count": 53,
   "metadata": {},
   "outputs": [
    {
     "name": "stdout",
     "output_type": "stream",
     "text": [
      "1 1\n",
      "2 2\n",
      "3 3\n",
      "4 4\n",
      "5 5\n",
      "6 6\n",
      "7 7\n",
      "8 8\n",
      "9 9\n",
      "10 10\n",
      "0 11\n",
      "1 12\n",
      "2 13\n",
      "3 14\n",
      "4 15\n",
      "5 16\n",
      "6 17\n",
      "7 18\n",
      "8 19\n",
      "9 20\n"
     ]
    }
   ],
   "source": [
    "\n",
    "\n",
    "\n",
    "x = 0\n",
    "y = 0\n",
    "\n",
    "for i in range(20):\n",
    "    x += 1\n",
    "    y += 1\n",
    "    if x > 10:\n",
    "        x = 0\n",
    "    print(x, y)\n",
    "\n"
   ]
  },
  {
   "cell_type": "code",
   "execution_count": 61,
   "metadata": {},
   "outputs": [
    {
     "data": {
      "text/html": [
       "<div>\n",
       "<style scoped>\n",
       "    .dataframe tbody tr th:only-of-type {\n",
       "        vertical-align: middle;\n",
       "    }\n",
       "\n",
       "    .dataframe tbody tr th {\n",
       "        vertical-align: top;\n",
       "    }\n",
       "\n",
       "    .dataframe thead th {\n",
       "        text-align: right;\n",
       "    }\n",
       "</style>\n",
       "<table border=\"1\" class=\"dataframe\">\n",
       "  <thead>\n",
       "    <tr style=\"text-align: right;\">\n",
       "      <th></th>\n",
       "      <th>nombre</th>\n",
       "      <th>edad</th>\n",
       "      <th>peso</th>\n",
       "    </tr>\n",
       "  </thead>\n",
       "  <tbody>\n",
       "    <tr>\n",
       "      <th>1</th>\n",
       "      <td>Juan</td>\n",
       "      <td>50</td>\n",
       "      <td>68</td>\n",
       "    </tr>\n",
       "    <tr>\n",
       "      <th>2</th>\n",
       "      <td>Marcos</td>\n",
       "      <td>88</td>\n",
       "      <td>79</td>\n",
       "    </tr>\n",
       "  </tbody>\n",
       "</table>\n",
       "</div>"
      ],
      "text/plain": [
       "   nombre  edad  peso\n",
       "1    Juan    50    68\n",
       "2  Marcos    88    79"
      ]
     },
     "execution_count": 61,
     "metadata": {},
     "output_type": "execute_result"
    }
   ],
   "source": [
    "\n",
    "\n",
    "\n",
    "        # canvas = pygame.Surface(self.window_size_total)\n",
    "        # canvas.fill((77, 77, 77))  # RGB for black\n",
    "\n",
    "        # # Blitcenario surface onto the left side of the new one\n",
    "        # canvas.blit(canvas_scenario, (self.padding, self.padding))\n",
    "\n",
    "        # Blitanel surface onto the right side of the new one\n",
    "\n",
    "        # Blit the observation matrix onto the panel\n",
    "        #observation_surface = self._render_observartion_matrix()\n",
    "\n",
    "        # observation_matrix = self.observation_matrix\n",
    "\n",
    "        # indices = (observation_matrix * 255 / 100).astype(int)\n",
    "        # color_map_array = np.array(self.color_map)\n",
    "        # observation_matrix_rgb = color_map_array[indices.ravel()].reshape(observation_matrix.shape + (3,))\n",
    "\n",
    "        # # scale to the window_observation_size while keeping the aspect ratio\n",
    "        # # calculate the aspect ratio of the observation matrix\n",
    "        # aspect_ratio = observation_matrix.shape[1] / observation_matrix.shape[0]\n",
    "        # if aspect_ratio > 1:\n",
    "        #     # Observation matrix is wider than it is tall\n",
    "        #     width = self.window_observation_size[0] -50\n",
    "        #     height = int(self.window_observation_size[1] / aspect_ratio)\n",
    "        # else:\n",
    "        #     # Observation matrix is taller than it is wide\n",
    "        #     width = int(self.window_observation_size[0] * aspect_ratio)\n",
    "        #     height = self.window_observation_size[1] - 50 \n",
    "\n",
    "        # observation_matrix_rgb = cv2.resize(observation_matrix_rgb, (width, height))\n",
    "\n",
    "        # observation_surface = pygame.surfarray.make_surface(observation_matrix_rgb)\n",
    "\n",
    "        # canvas_panel = pygame.Surface(self.window_observation_size)\n",
    "        # canvas_panel.fill((0, 0, 0))  \n",
    "\n",
    "\n",
    "        # original_width, original_height = canvas_panel.get_size()\n",
    "\n",
    "        # # Calculate the position to blit the original surface onto the new one\n",
    "        # position = ((self.window_observation_size[0] - original_width) // 2, (self.window_observation_size[1] - original_height) // 2)\n",
    "\n",
    "        # canvas_panel.blit(observation_surface, position)\n",
    "\n",
    "\n",
    "        # canvas.blit(canvas_panel, (2 * self.padding + self.window_scenario_size[0], self.padding))"
   ]
  }
 ],
 "metadata": {
  "kernelspec": {
   "display_name": "scm",
   "language": "python",
   "name": "python3"
  },
  "language_info": {
   "codemirror_mode": {
    "name": "ipython",
    "version": 3
   },
   "file_extension": ".py",
   "mimetype": "text/x-python",
   "name": "python",
   "nbconvert_exporter": "python",
   "pygments_lexer": "ipython3",
   "version": "3.11.8"
  }
 },
 "nbformat": 4,
 "nbformat_minor": 2
}
