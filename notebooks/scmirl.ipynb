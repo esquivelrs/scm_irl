{
 "cells": [
  {
   "cell_type": "code",
   "execution_count": 1,
   "metadata": {},
   "outputs": [
    {
     "name": "stdout",
     "output_type": "stream",
     "text": [
      "mmsi: 215811000, start_time: 1577905000.0, end_time: 1577906100.0\n"
     ]
    },
    {
     "data": {
      "text/plain": [
       "({'observation_matrix': array([[50., 50., 50., ..., 50., 50., 50.],\n",
       "         [50., 50., 50., ..., 50., 50., 50.],\n",
       "         [50., 50., 50., ..., 50., 50., 50.],\n",
       "         ...,\n",
       "         [50., 50., 50., ..., 50., 50., 50.],\n",
       "         [50., 50., 50., ..., 50., 50., 50.],\n",
       "         [50., 50., 50., ..., 50., 50., 50.]], dtype=float32),\n",
       "  'agent_state': array([1.94430761e+03, 2.61866356e+03, 4.99006800e+00, 3.91923380e-01]),\n",
       "  'target': array([6221.38466074, 6272.32500012])},\n",
       " {})"
      ]
     },
     "execution_count": 1,
     "metadata": {},
     "output_type": "execute_result"
    }
   ],
   "source": [
    "from scm_irl.env.scm_irl_env import ScmIrlEnv\n",
    "from sllib.conversions.geo_conversions import north_east_to_lat_lon, mps2knots, lat_lon_to_north_east\n",
    "import numpy as np\n",
    "import wandb\n",
    "from wandb.integration.sb3 import WandbCallback\n",
    "\n",
    "\n",
    "import gymnasium as gym\n",
    "# Check if the environment is registered\n",
    "\n",
    "gym.register(\n",
    "    id='ScmIrl-v0',\n",
    "    entry_point='scm_irl.env:ScmIrlEnv',\n",
    "    max_episode_steps=500,\n",
    ")\n",
    "\n",
    "\n",
    "path = \"/home/rolando/Documents/DTU/SCMarine/ais-and-charts-sample/ais_data/scenario_2a66ceaf61\"\n",
    "\n",
    "\n",
    "env = ScmIrlEnv(path, mmsi=215811000, awareness_zone = [200, 500, 200, 200], start_time_reference=1577905000.0)\n",
    "\n",
    "env.reset()\n",
    "\n",
    "#env.step(np.array([1.0,1.0]))"
   ]
  },
  {
   "cell_type": "code",
   "execution_count": 2,
   "metadata": {},
   "outputs": [
    {
     "name": "stderr",
     "output_type": "stream",
     "text": [
      "Failed to detect the name of this notebook, you can set it manually with the WANDB_NOTEBOOK_NAME environment variable to enable code saving.\n",
      "\u001b[34m\u001b[1mwandb\u001b[0m: Currently logged in as: \u001b[33mrolando-esq\u001b[0m (\u001b[33mdtu-projects\u001b[0m). Use \u001b[1m`wandb login --relogin`\u001b[0m to force relogin\n"
     ]
    },
    {
     "data": {
      "text/html": [
       "Tracking run with wandb version 0.17.0"
      ],
      "text/plain": [
       "<IPython.core.display.HTML object>"
      ]
     },
     "metadata": {},
     "output_type": "display_data"
    },
    {
     "data": {
      "text/html": [
       "Run data is saved locally in <code>/home/rolando/Documents/DTU/SCMarine/scm_irl/notebooks/wandb/run-20240518_130815-91mkc2ek</code>"
      ],
      "text/plain": [
       "<IPython.core.display.HTML object>"
      ]
     },
     "metadata": {},
     "output_type": "display_data"
    },
    {
     "data": {
      "text/html": [
       "Syncing run <strong><a href='https://wandb.ai/dtu-projects/scmirl/runs/91mkc2ek' target=\"_blank\">glamorous-disco-10</a></strong> to <a href='https://wandb.ai/dtu-projects/scmirl' target=\"_blank\">Weights & Biases</a> (<a href='https://wandb.me/run' target=\"_blank\">docs</a>)<br/>"
      ],
      "text/plain": [
       "<IPython.core.display.HTML object>"
      ]
     },
     "metadata": {},
     "output_type": "display_data"
    },
    {
     "data": {
      "text/html": [
       " View project at <a href='https://wandb.ai/dtu-projects/scmirl' target=\"_blank\">https://wandb.ai/dtu-projects/scmirl</a>"
      ],
      "text/plain": [
       "<IPython.core.display.HTML object>"
      ]
     },
     "metadata": {},
     "output_type": "display_data"
    },
    {
     "data": {
      "text/html": [
       " View run at <a href='https://wandb.ai/dtu-projects/scmirl/runs/91mkc2ek' target=\"_blank\">https://wandb.ai/dtu-projects/scmirl/runs/91mkc2ek</a>"
      ],
      "text/plain": [
       "<IPython.core.display.HTML object>"
      ]
     },
     "metadata": {},
     "output_type": "display_data"
    },
    {
     "name": "stdout",
     "output_type": "stream",
     "text": [
      "Using cuda device\n",
      "Wrapping the env with a `Monitor` wrapper\n",
      "Wrapping the env in a DummyVecEnv.\n",
      "----------------------------------\n",
      "| rollout/           |           |\n",
      "|    ep_len_mean     | 110       |\n",
      "|    ep_rew_mean     | -3.34e+04 |\n",
      "| time/              |           |\n",
      "|    fps             | 19        |\n",
      "|    iterations      | 1         |\n",
      "|    time_elapsed    | 103       |\n",
      "|    total_timesteps | 2048      |\n",
      "----------------------------------\n",
      "------------------------------------------\n",
      "| rollout/                |              |\n",
      "|    ep_len_mean          | 110          |\n",
      "|    ep_rew_mean          | -3.33e+04    |\n",
      "| time/                   |              |\n",
      "|    fps                  | 16           |\n",
      "|    iterations           | 2            |\n",
      "|    time_elapsed         | 241          |\n",
      "|    total_timesteps      | 4096         |\n",
      "| train/                  |              |\n",
      "|    approx_kl            | 0.0027384334 |\n",
      "|    clip_fraction        | 0.00117      |\n",
      "|    clip_range           | 0.2          |\n",
      "|    entropy_loss         | -2.84        |\n",
      "|    explained_variance   | 9e-06        |\n",
      "|    learning_rate        | 0.0003       |\n",
      "|    loss                 | 1.25e+07     |\n",
      "|    n_updates            | 10           |\n",
      "|    policy_gradient_loss | -0.000896    |\n",
      "|    std                  | 0.999        |\n",
      "|    value_loss           | 2.61e+07     |\n",
      "------------------------------------------\n",
      "agent out of the scenario\n",
      "------------------------------------------\n",
      "| rollout/                |              |\n",
      "|    ep_len_mean          | 110          |\n",
      "|    ep_rew_mean          | -3.34e+04    |\n",
      "| time/                   |              |\n",
      "|    fps                  | 16           |\n",
      "|    iterations           | 3            |\n",
      "|    time_elapsed         | 372          |\n",
      "|    total_timesteps      | 6144         |\n",
      "| train/                  |              |\n",
      "|    approx_kl            | 0.0045819525 |\n",
      "|    clip_fraction        | 0.0102       |\n",
      "|    clip_range           | 0.2          |\n",
      "|    entropy_loss         | -2.83        |\n",
      "|    explained_variance   | 5.96e-08     |\n",
      "|    learning_rate        | 0.0003       |\n",
      "|    loss                 | 1.42e+07     |\n",
      "|    n_updates            | 20           |\n",
      "|    policy_gradient_loss | -0.00175     |\n",
      "|    std                  | 0.998        |\n",
      "|    value_loss           | 2.59e+07     |\n",
      "------------------------------------------\n",
      "------------------------------------------\n",
      "| rollout/                |              |\n",
      "|    ep_len_mean          | 110          |\n",
      "|    ep_rew_mean          | -3.33e+04    |\n",
      "| time/                   |              |\n",
      "|    fps                  | 16           |\n",
      "|    iterations           | 4            |\n",
      "|    time_elapsed         | 498          |\n",
      "|    total_timesteps      | 8192         |\n",
      "| train/                  |              |\n",
      "|    approx_kl            | 0.0020184892 |\n",
      "|    clip_fraction        | 0.000488     |\n",
      "|    clip_range           | 0.2          |\n",
      "|    entropy_loss         | -2.83        |\n",
      "|    explained_variance   | 1.79e-07     |\n",
      "|    learning_rate        | 0.0003       |\n",
      "|    loss                 | 1.41e+07     |\n",
      "|    n_updates            | 30           |\n",
      "|    policy_gradient_loss | -0.000975    |\n",
      "|    std                  | 0.996        |\n",
      "|    value_loss           | 2.77e+07     |\n",
      "------------------------------------------\n",
      "------------------------------------------\n",
      "| rollout/                |              |\n",
      "|    ep_len_mean          | 110          |\n",
      "|    ep_rew_mean          | -3.32e+04    |\n",
      "| time/                   |              |\n",
      "|    fps                  | 16           |\n",
      "|    iterations           | 5            |\n",
      "|    time_elapsed         | 623          |\n",
      "|    total_timesteps      | 10240        |\n",
      "| train/                  |              |\n",
      "|    approx_kl            | 0.0018674037 |\n",
      "|    clip_fraction        | 0.000586     |\n",
      "|    clip_range           | 0.2          |\n",
      "|    entropy_loss         | -2.83        |\n",
      "|    explained_variance   | 1.79e-07     |\n",
      "|    learning_rate        | 0.0003       |\n",
      "|    loss                 | 1.1e+07      |\n",
      "|    n_updates            | 40           |\n",
      "|    policy_gradient_loss | -0.000684    |\n",
      "|    std                  | 0.997        |\n",
      "|    value_loss           | 2.45e+07     |\n",
      "------------------------------------------\n"
     ]
    },
    {
     "data": {
      "text/html": [
       " View run <strong style=\"color:#cdcd00\">glamorous-disco-10</strong> at: <a href='https://wandb.ai/dtu-projects/scmirl/runs/91mkc2ek' target=\"_blank\">https://wandb.ai/dtu-projects/scmirl/runs/91mkc2ek</a><br/> View project at: <a href='https://wandb.ai/dtu-projects/scmirl' target=\"_blank\">https://wandb.ai/dtu-projects/scmirl</a><br/>Synced 7 W&B file(s), 0 media file(s), 0 artifact file(s) and 1 other file(s)"
      ],
      "text/plain": [
       "<IPython.core.display.HTML object>"
      ]
     },
     "metadata": {},
     "output_type": "display_data"
    },
    {
     "data": {
      "text/html": [
       "Find logs at: <code>./wandb/run-20240518_130815-91mkc2ek/logs</code>"
      ],
      "text/plain": [
       "<IPython.core.display.HTML object>"
      ]
     },
     "metadata": {},
     "output_type": "display_data"
    }
   ],
   "source": [
    "# import stablebaselines3\n",
    "\n",
    "config = {\n",
    "    \"policy_type\": \"MultiInputPolicy\",\n",
    "    \"total_timesteps\": 100000,\n",
    "    \"env_name\": \"ScmIrl-v0\",\n",
    "}\n",
    "\n",
    "run = wandb.init(\n",
    "    project=\"scmirl\",\n",
    "    config=config,\n",
    "    sync_tensorboard=True,  # auto-upload sb3's tensorboard metrics\n",
    "    monitor_gym=True,  # auto-upload the videos of agents playing the game\n",
    "    save_code=True,  # optional\n",
    ")\n",
    "\n",
    "\n",
    "from stable_baselines3 import PPO\n",
    "\n",
    "model = PPO(\"MultiInputPolicy\", env, verbose = 1)\n",
    "\n",
    "model.learn(total_timesteps=100000, \n",
    "            callback=WandbCallback(\n",
    "                gradient_save_freq=100,\n",
    "                model_save_path=f\"models/{run.id}\",\n",
    "                verbose=2,),\n",
    "            log_interval=10,\n",
    "            tb_log_name=\"ppo\",\n",
    "            reset_num_timesteps=False,\n",
    "            progress_bar=True,\n",
    "                )\n",
    "\n",
    "model.save(\"ppo_ais\")\n",
    "\n",
    "run.finish()\n"
   ]
  }
 ],
 "metadata": {
  "kernelspec": {
   "display_name": "scm",
   "language": "python",
   "name": "python3"
  },
  "language_info": {
   "codemirror_mode": {
    "name": "ipython",
    "version": 3
   },
   "file_extension": ".py",
   "mimetype": "text/x-python",
   "name": "python",
   "nbconvert_exporter": "python",
   "pygments_lexer": "ipython3",
   "version": "3.11.8"
  }
 },
 "nbformat": 4,
 "nbformat_minor": 2
}
